{
 "cells": [
  {
   "cell_type": "markdown",
   "metadata": {},
   "source": [
    "# Tutorial on Python and pgmpy"
   ]
  },
  {
   "cell_type": "code",
   "execution_count": 1,
   "metadata": {
    "collapsed": false
   },
   "outputs": [
    {
     "name": "stdout",
     "output_type": "stream",
     "text": [
      "Hello, World!\n"
     ]
    }
   ],
   "source": [
    "print(\"Hello, World!\")"
   ]
  },
  {
   "cell_type": "markdown",
   "metadata": {},
   "source": [
    "#### Tuples:\n",
    "\n",
    "Tuples are non-modifiable (or 'non-mutable') objects"
   ]
  },
  {
   "cell_type": "code",
   "execution_count": 2,
   "metadata": {
    "collapsed": true
   },
   "outputs": [],
   "source": [
    "months = ('January','February','March','April','May','June',\\\n",
    "'July','August','September','October','November','  December')"
   ]
  },
  {
   "cell_type": "code",
   "execution_count": 3,
   "metadata": {
    "collapsed": false
   },
   "outputs": [
    {
     "name": "stdout",
     "output_type": "stream",
     "text": [
      "March\n"
     ]
    }
   ],
   "source": [
    "print months[2]"
   ]
  },
  {
   "cell_type": "markdown",
   "metadata": {},
   "source": [
    "#### Lists:"
   ]
  },
  {
   "cell_type": "markdown",
   "metadata": {},
   "source": [
    "Lists are modifiable (or 'mutable', as a programmer may say), so their values can be changed. Most of the time we use lists, not tuples, because we want to easily change the values of things if we need to. "
   ]
  },
  {
   "cell_type": "code",
   "execution_count": 4,
   "metadata": {
    "collapsed": true
   },
   "outputs": [],
   "source": [
    "fruits = ['Apple', 'Kiwi', 'Mango', 'Banana']"
   ]
  },
  {
   "cell_type": "code",
   "execution_count": 5,
   "metadata": {
    "collapsed": false
   },
   "outputs": [
    {
     "name": "stdout",
     "output_type": "stream",
     "text": [
      "Mango\n"
     ]
    }
   ],
   "source": [
    "# Accessing lists\n",
    "\n",
    "print fruits[2]"
   ]
  },
  {
   "cell_type": "code",
   "execution_count": 6,
   "metadata": {
    "collapsed": false
   },
   "outputs": [
    {
     "name": "stdout",
     "output_type": "stream",
     "text": [
      "['Apple', 'Kiwi', 'Mango', 'Banana', 'Orange']\n"
     ]
    }
   ],
   "source": [
    "# Adding item to a list\n",
    "\n",
    "fruits.append('Orange')\n",
    "print(fruits)"
   ]
  },
  {
   "cell_type": "code",
   "execution_count": 7,
   "metadata": {
    "collapsed": false
   },
   "outputs": [
    {
     "name": "stdout",
     "output_type": "stream",
     "text": [
      "['Apple', 'Mango', 'Banana', 'Orange']\n"
     ]
    }
   ],
   "source": [
    "# Deleting an item\n",
    "\n",
    "del fruits[1]\n",
    "print fruits"
   ]
  },
  {
   "cell_type": "markdown",
   "metadata": {},
   "source": [
    "#### Dictionaries:"
   ]
  },
  {
   "cell_type": "code",
   "execution_count": 8,
   "metadata": {
    "collapsed": true
   },
   "outputs": [],
   "source": [
    "# empty dictionary\n",
    "my_dict = {}\n"
   ]
  },
  {
   "cell_type": "code",
   "execution_count": 9,
   "metadata": {
    "collapsed": true
   },
   "outputs": [],
   "source": [
    "# dictionary with integer keys\n",
    "my_dict = {1: 'apple', 2: 'ball'}"
   ]
  },
  {
   "cell_type": "code",
   "execution_count": 10,
   "metadata": {
    "collapsed": true
   },
   "outputs": [],
   "source": [
    "\n",
    "# dictionary with mixed keys\n",
    "my_dict = {'name': 'John', 1: [2, 4, 3]}"
   ]
  },
  {
   "cell_type": "code",
   "execution_count": 11,
   "metadata": {
    "collapsed": true
   },
   "outputs": [],
   "source": [
    "# using dict()\n",
    "my_dict = dict({1:'apple', 2:'ball'})"
   ]
  },
  {
   "cell_type": "code",
   "execution_count": 12,
   "metadata": {
    "collapsed": true
   },
   "outputs": [],
   "source": [
    "# from sequence having each item as a pair\n",
    "my_dict = dict([(1,'apple'), (2,'ball')])"
   ]
  },
  {
   "cell_type": "code",
   "execution_count": 13,
   "metadata": {
    "collapsed": false
   },
   "outputs": [
    {
     "name": "stdout",
     "output_type": "stream",
     "text": [
      "Jack\n",
      "20\n"
     ]
    }
   ],
   "source": [
    "# Accessing the dictionary\n",
    "\n",
    "# from sequence having each item as a pair\n",
    "my_dict = {'name':'Jack', 'age':20}\n",
    "\n",
    "# Output: Jack\n",
    "print(my_dict['name'])\n",
    "\n",
    "# Output: 26\n",
    "print(my_dict.get('age'))"
   ]
  },
  {
   "cell_type": "markdown",
   "metadata": {},
   "source": [
    "## Defining a PGM"
   ]
  },
  {
   "cell_type": "markdown",
   "metadata": {},
   "source": [
    "Consider the following example from Koller's book to model a student's chance of getting a recommendation letter.\n",
    "\n",
    "![PGM](koller_example.png)\n"
   ]
  },
  {
   "cell_type": "code",
   "execution_count": 15,
   "metadata": {
    "collapsed": true
   },
   "outputs": [],
   "source": [
    "from pgmpy.models import BayesianModel"
   ]
  },
  {
   "cell_type": "markdown",
   "metadata": {},
   "source": [
    "Let's define a smaller network with just three nodes:"
   ]
  },
  {
   "cell_type": "code",
   "execution_count": 16,
   "metadata": {
    "collapsed": false
   },
   "outputs": [],
   "source": [
    "# Defining a Bayesian network - set of nodes and edges\n",
    "student_model = BayesianModel([('Difficulty', 'Grade'), \n",
    "                              ('Intelligence', 'Grade')])"
   ]
  },
  {
   "cell_type": "markdown",
   "metadata": {},
   "source": [
    "To get the summary of the network, use the following functions"
   ]
  },
  {
   "cell_type": "code",
   "execution_count": 17,
   "metadata": {
    "collapsed": false
   },
   "outputs": [
    {
     "data": {
      "text/plain": [
       "['Grade', 'Difficulty', 'Intelligence']"
      ]
     },
     "execution_count": 17,
     "metadata": {},
     "output_type": "execute_result"
    }
   ],
   "source": [
    "student_model.nodes()"
   ]
  },
  {
   "cell_type": "code",
   "execution_count": 18,
   "metadata": {
    "collapsed": false
   },
   "outputs": [
    {
     "data": {
      "text/plain": [
       "[('Difficulty', 'Grade'), ('Intelligence', 'Grade')]"
      ]
     },
     "execution_count": 18,
     "metadata": {},
     "output_type": "execute_result"
    }
   ],
   "source": [
    "student_model.edges()"
   ]
  },
  {
   "cell_type": "markdown",
   "metadata": {},
   "source": [
    "We can also add more nodes at any point of time using add_nodes_from() method"
   ]
  },
  {
   "cell_type": "code",
   "execution_count": 19,
   "metadata": {
    "collapsed": false
   },
   "outputs": [],
   "source": [
    "student_model.add_nodes_from(['Letter','SAT'])"
   ]
  },
  {
   "cell_type": "markdown",
   "metadata": {},
   "source": [
    "Adding more edges using the add_edges_from() method"
   ]
  },
  {
   "cell_type": "code",
   "execution_count": 20,
   "metadata": {
    "collapsed": true
   },
   "outputs": [],
   "source": [
    "student_model.add_edges_from([('Grade','Letter'),('Intelligence','SAT')])"
   ]
  },
  {
   "cell_type": "markdown",
   "metadata": {},
   "source": [
    "**Note:** If we add an edge, but the nodes, between which the edge is, are not present in the model, pgmpy automatically adds those nodes to the model."
   ]
  },
  {
   "cell_type": "code",
   "execution_count": 22,
   "metadata": {
    "collapsed": false
   },
   "outputs": [
    {
     "data": {
      "text/plain": [
       "['Grade', 'Difficulty', 'SAT', 'Letter', 'Intelligence']"
      ]
     },
     "execution_count": 22,
     "metadata": {},
     "output_type": "execute_result"
    }
   ],
   "source": [
    "student_model.nodes()"
   ]
  },
  {
   "cell_type": "code",
   "execution_count": 23,
   "metadata": {
    "collapsed": false
   },
   "outputs": [
    {
     "data": {
      "text/plain": [
       "[('Grade', 'Letter'),\n",
       " ('Difficulty', 'Grade'),\n",
       " ('Intelligence', 'Grade'),\n",
       " ('Intelligence', 'SAT')]"
      ]
     },
     "execution_count": 23,
     "metadata": {},
     "output_type": "execute_result"
    }
   ],
   "source": [
    "student_model.edges()"
   ]
  },
  {
   "cell_type": "markdown",
   "metadata": {},
   "source": [
    "### Defining the Conditional Probability Distributions (CPDs)"
   ]
  },
  {
   "cell_type": "code",
   "execution_count": 25,
   "metadata": {
    "collapsed": false
   },
   "outputs": [],
   "source": [
    "from pgmpy.factors.discrete import TabularCPD"
   ]
  },
  {
   "cell_type": "markdown",
   "metadata": {},
   "source": [
    "Now let's define the CPDs associated with the network"
   ]
  },
  {
   "cell_type": "code",
   "execution_count": 26,
   "metadata": {
    "collapsed": false
   },
   "outputs": [],
   "source": [
    "# defining root nodes (no evidence/parents)\n",
    "cpd_diff = TabularCPD(variable='Difficulty', variable_card=2,\n",
    "                      values=[[0.6], [0.4]])\n",
    "cpd_intel = TabularCPD(variable='Intelligence', variable_card=2,\n",
    "                      values=[[0.7], [0.3]])"
   ]
  },
  {
   "cell_type": "code",
   "execution_count": 27,
   "metadata": {
    "collapsed": false
   },
   "outputs": [
    {
     "name": "stdout",
     "output_type": "stream",
     "text": [
      "+--------------+----------------+----------------+----------------+----------------+\n",
      "| Intelligence | Intelligence_0 | Intelligence_0 | Intelligence_1 | Intelligence_1 |\n",
      "+--------------+----------------+----------------+----------------+----------------+\n",
      "| Difficulty   | Difficulty_0   | Difficulty_1   | Difficulty_0   | Difficulty_1   |\n",
      "+--------------+----------------+----------------+----------------+----------------+\n",
      "| Grade_0      | 0.3            | 0.05           | 0.9            | 0.5            |\n",
      "+--------------+----------------+----------------+----------------+----------------+\n",
      "| Grade_1      | 0.4            | 0.25           | 0.08           | 0.3            |\n",
      "+--------------+----------------+----------------+----------------+----------------+\n",
      "| Grade_2      | 0.3            | 0.7            | 0.02           | 0.2            |\n",
      "+--------------+----------------+----------------+----------------+----------------+\n"
     ]
    }
   ],
   "source": [
    "# CPDs for nodes with evidence/parents\n",
    "\n",
    "cpd_grade = TabularCPD(variable='Grade', variable_card=3,\n",
    "                        values=[[0.3, 0.05, 0.9, 0.5],\n",
    "                                [0.4, 0.25, 0.08, 0.3],\n",
    "                                [0.3,0.7,0.02,0.2]],\n",
    "                        evidence=['Intelligence', 'Difficulty'],\n",
    "                        evidence_card=[2, 2])\n",
    "print(cpd_grade)"
   ]
  },
  {
   "cell_type": "code",
   "execution_count": 28,
   "metadata": {
    "collapsed": false
   },
   "outputs": [
    {
     "name": "stdout",
     "output_type": "stream",
     "text": [
      "+--------------+----------------+----------------+\n",
      "| Intelligence | Intelligence_0 | Intelligence_1 |\n",
      "+--------------+----------------+----------------+\n",
      "| SAT_0        | 0.95           | 0.2            |\n",
      "+--------------+----------------+----------------+\n",
      "| SAT_1        | 0.05           | 0.8            |\n",
      "+--------------+----------------+----------------+\n"
     ]
    }
   ],
   "source": [
    "cpd_SAT = TabularCPD(variable='SAT', variable_card=2,\n",
    "                        values=[[0.95, 0.2],\n",
    "                                [0.05, 0.8]],\n",
    "                        evidence=['Intelligence'],\n",
    "                        evidence_card=[2])\n",
    "print(cpd_SAT)"
   ]
  },
  {
   "cell_type": "code",
   "execution_count": 29,
   "metadata": {
    "collapsed": false
   },
   "outputs": [
    {
     "name": "stdout",
     "output_type": "stream",
     "text": [
      "+----------+---------+---------+---------+\n",
      "| Grade    | Grade_0 | Grade_1 | Grade_2 |\n",
      "+----------+---------+---------+---------+\n",
      "| Letter_0 | 0.1     | 0.4     | 0.99    |\n",
      "+----------+---------+---------+---------+\n",
      "| Letter_1 | 0.9     | 0.6     | 0.01    |\n",
      "+----------+---------+---------+---------+\n"
     ]
    }
   ],
   "source": [
    "cpd_letter = TabularCPD(variable='Letter', variable_card=2,\n",
    "                        values=[[0.1, 0.4,0.99],\n",
    "                                [0.9, 0.6,0.01]],\n",
    "                        evidence=['Grade'],\n",
    "                        evidence_card=[3])\n",
    "print(cpd_letter)"
   ]
  },
  {
   "cell_type": "code",
   "execution_count": 30,
   "metadata": {
    "collapsed": false
   },
   "outputs": [],
   "source": [
    "# Associating the parameters with the model structure.\n",
    "student_model.add_cpds(cpd_diff, cpd_grade, cpd_intel, cpd_letter, cpd_SAT)\n"
   ]
  },
  {
   "cell_type": "code",
   "execution_count": 31,
   "metadata": {
    "collapsed": false
   },
   "outputs": [
    {
     "data": {
      "text/plain": [
       "[<TabularCPD representing P(Difficulty:2) at 0xa768d30L>,\n",
       " <TabularCPD representing P(Grade:3 | Intelligence:2, Difficulty:2) at 0xa768198L>,\n",
       " <TabularCPD representing P(Intelligence:2) at 0xa768cf8L>,\n",
       " <TabularCPD representing P(Letter:2 | Grade:3) at 0xa768e48L>,\n",
       " <TabularCPD representing P(SAT:2 | Intelligence:2) at 0xa768710L>]"
      ]
     },
     "execution_count": 31,
     "metadata": {},
     "output_type": "execute_result"
    }
   ],
   "source": [
    "student_model.get_cpds()"
   ]
  },
  {
   "cell_type": "markdown",
   "metadata": {},
   "source": [
    "Additionally, pgmpy also provides a check_model() method that checks whether the model and all the associated CPDs are consistent:"
   ]
  },
  {
   "cell_type": "code",
   "execution_count": 32,
   "metadata": {
    "collapsed": false
   },
   "outputs": [
    {
     "data": {
      "text/plain": [
       "True"
      ]
     },
     "execution_count": 32,
     "metadata": {},
     "output_type": "execute_result"
    }
   ],
   "source": [
    "# Checking if the cpds are valid for the model.\n",
    "student_model.check_model()"
   ]
  },
  {
   "cell_type": "markdown",
   "metadata": {},
   "source": [
    "To remove cpd's use the remove_cpds() method"
   ]
  },
  {
   "cell_type": "code",
   "execution_count": 21,
   "metadata": {
    "collapsed": false
   },
   "outputs": [],
   "source": [
    "student_model.remove_cpds('SAT','Letter')\n"
   ]
  },
  {
   "cell_type": "markdown",
   "metadata": {},
   "source": [
    "### Inference in Bayesian Network"
   ]
  },
  {
   "cell_type": "code",
   "execution_count": 33,
   "metadata": {
    "collapsed": false
   },
   "outputs": [
    {
     "name": "stdout",
     "output_type": "stream",
     "text": [
      "+----------+---------------+\n",
      "| Letter   |   phi(Letter) |\n",
      "|----------+---------------|\n",
      "| Letter_0 |        0.6114 |\n",
      "| Letter_1 |        0.3886 |\n",
      "+----------+---------------+\n"
     ]
    }
   ],
   "source": [
    "# Doing exact inference using Variable Elimination\n",
    "from pgmpy.inference import VariableElimination\n",
    "\n",
    "student_infer = VariableElimination(student_model)\n",
    "\n",
    "# Computing the probability of Letter given Intelligence.\n",
    "q0 = student_infer.query(variables=['Letter'], evidence={'Intelligence': 0})\n",
    "\n",
    "print(q0['Letter'])\n"
   ]
  },
  {
   "cell_type": "code",
   "execution_count": 34,
   "metadata": {
    "collapsed": false
   },
   "outputs": [
    {
     "name": "stdout",
     "output_type": "stream",
     "text": [
      "+----------+---------------+\n",
      "| Letter   |   phi(Letter) |\n",
      "|----------+---------------|\n",
      "| Letter_0 |        0.2323 |\n",
      "| Letter_1 |        0.7677 |\n",
      "+----------+---------------+\n"
     ]
    }
   ],
   "source": [
    "q1 = student_infer.query(variables=['Letter'], evidence={'Intelligence': 1})\n",
    "\n",
    "print(q1['Letter'])\n"
   ]
  },
  {
   "cell_type": "code",
   "execution_count": 35,
   "metadata": {
    "collapsed": false
   },
   "outputs": [
    {
     "name": "stdout",
     "output_type": "stream",
     "text": [
      "+----------+---------------+\n",
      "| Letter   |   phi(Letter) |\n",
      "|----------+---------------|\n",
      "| Letter_0 |        0.4977 |\n",
      "| Letter_1 |        0.5023 |\n",
      "+----------+---------------+\n"
     ]
    }
   ],
   "source": [
    "q2 = student_infer.query(variables=['Letter'])\n",
    "print(q2['Letter'])"
   ]
  },
  {
   "cell_type": "markdown",
   "metadata": {},
   "source": [
    "### Reasoning on the Network:"
   ]
  },
  {
   "cell_type": "code",
   "execution_count": 36,
   "metadata": {
    "collapsed": false
   },
   "outputs": [
    {
     "data": {
      "text/plain": [
       "False"
      ]
     },
     "execution_count": 36,
     "metadata": {},
     "output_type": "execute_result"
    }
   ],
   "source": [
    "# Doing some simple queries on the network\n",
    "student_model.is_active_trail('Difficulty', 'SAT')"
   ]
  },
  {
   "cell_type": "code",
   "execution_count": 37,
   "metadata": {
    "collapsed": false
   },
   "outputs": [
    {
     "data": {
      "text/plain": [
       "True"
      ]
     },
     "execution_count": 37,
     "metadata": {},
     "output_type": "execute_result"
    }
   ],
   "source": [
    "student_model.is_active_trail('Difficulty', 'Letter')"
   ]
  },
  {
   "cell_type": "code",
   "execution_count": 38,
   "metadata": {
    "collapsed": false
   },
   "outputs": [
    {
     "data": {
      "text/plain": [
       "(SAT _|_ Grade, Difficulty, Letter | Intelligence)"
      ]
     },
     "execution_count": 38,
     "metadata": {},
     "output_type": "execute_result"
    }
   ],
   "source": [
    "# Getting local independencies in the network\n",
    "student_model.local_independencies('SAT')"
   ]
  },
  {
   "cell_type": "code",
   "execution_count": 39,
   "metadata": {
    "collapsed": false
   },
   "outputs": [
    {
     "data": {
      "text/plain": [
       "(Grade _|_ SAT | Difficulty, Intelligence)"
      ]
     },
     "execution_count": 39,
     "metadata": {},
     "output_type": "execute_result"
    }
   ],
   "source": [
    "student_model.local_independencies('Grade')"
   ]
  },
  {
   "cell_type": "code",
   "execution_count": 40,
   "metadata": {
    "collapsed": false
   },
   "outputs": [
    {
     "data": {
      "text/plain": [
       "(Grade _|_ SAT | Intelligence)\n",
       "(Grade _|_ SAT | Difficulty, Intelligence)\n",
       "(Grade _|_ SAT | Intelligence, Letter)\n",
       "(Grade _|_ SAT | Difficulty, Letter, Intelligence)\n",
       "(Difficulty _|_ Intelligence, SAT)\n",
       "(Difficulty _|_ Letter | Grade)\n",
       "(Difficulty _|_ SAT | Intelligence)\n",
       "(Difficulty _|_ Intelligence | SAT)\n",
       "(Difficulty _|_ Letter, SAT | Grade, Intelligence)\n",
       "(Difficulty _|_ Letter | Grade, SAT)\n",
       "(Difficulty _|_ SAT | Intelligence, Letter)\n",
       "(Difficulty _|_ SAT | Grade, Intelligence, Letter)\n",
       "(Difficulty _|_ Letter | Grade, Intelligence, SAT)\n",
       "(SAT _|_ Difficulty)\n",
       "(SAT _|_ Letter | Grade)\n",
       "(SAT _|_ Grade, Difficulty, Letter | Intelligence)\n",
       "(SAT _|_ Letter | Grade, Difficulty)\n",
       "(SAT _|_ Difficulty, Letter | Grade, Intelligence)\n",
       "(SAT _|_ Grade, Letter | Difficulty, Intelligence)\n",
       "(SAT _|_ Grade, Difficulty | Intelligence, Letter)\n",
       "(SAT _|_ Letter | Grade, Difficulty, Intelligence)\n",
       "(SAT _|_ Difficulty | Grade, Intelligence, Letter)\n",
       "(SAT _|_ Grade | Difficulty, Letter, Intelligence)\n",
       "(Letter _|_ Difficulty, Intelligence, SAT | Grade)\n",
       "(Letter _|_ SAT | Intelligence)\n",
       "(Letter _|_ Intelligence, SAT | Grade, Difficulty)\n",
       "(Letter _|_ Difficulty, Intelligence | Grade, SAT)\n",
       "(Letter _|_ Difficulty, SAT | Grade, Intelligence)\n",
       "(Letter _|_ SAT | Difficulty, Intelligence)\n",
       "(Letter _|_ Intelligence | Grade, Difficulty, SAT)\n",
       "(Letter _|_ SAT | Grade, Difficulty, Intelligence)\n",
       "(Letter _|_ Difficulty | Grade, Intelligence, SAT)\n",
       "(Intelligence _|_ Difficulty)\n",
       "(Intelligence _|_ Letter | Grade)\n",
       "(Intelligence _|_ Difficulty | SAT)\n",
       "(Intelligence _|_ Letter | Grade, Difficulty)\n",
       "(Intelligence _|_ Letter | Grade, SAT)\n",
       "(Intelligence _|_ Letter | Grade, Difficulty, SAT)"
      ]
     },
     "execution_count": 40,
     "metadata": {},
     "output_type": "execute_result"
    }
   ],
   "source": [
    "student_model.get_independencies()"
   ]
  }
 ],
 "metadata": {
  "kernelspec": {
   "display_name": "Python 2",
   "language": "python",
   "name": "python2"
  },
  "language_info": {
   "codemirror_mode": {
    "name": "ipython",
    "version": 2
   },
   "file_extension": ".py",
   "mimetype": "text/x-python",
   "name": "python",
   "nbconvert_exporter": "python",
   "pygments_lexer": "ipython2",
   "version": "2.7.13"
  }
 },
 "nbformat": 4,
 "nbformat_minor": 2
}
